{
 "cells": [
  {
   "cell_type": "markdown",
   "id": "9b037d87-97d6-4dd4-86f4-6a136f72d9a9",
   "metadata": {},
   "source": [
    " # Fraud Detection Model - Group 3\n",
    " \n",
    " ### Group Members\n",
    "- Fathia Salauddin\n",
    "- Mkpouto Inyang\n",
    "- Oluwatomilola Adeniran\n",
    "- Timilehin Omolayole\n",
    "\n",
    "### Problem Statement\n",
    "Build a classification model to detect fraudulent transactions in a financial dataset. Use transaction details, user behavior, and transaction frequency as features. Assess the model's precision and recall, and guide students to Kaggle for datasets related to financial fraud.\n",
    "\n",
    "### Our Dataset\n",
    "We got data about transactions made by European cardholers in September 2013. This data has been through PCA Transformation due to the sensitivity of the data. However, Time, Amount and Class remain.\n",
    "\n",
    "## Our Aim\n",
    "Here, we will attempt to build a classification model to detect fraudulent transactions. We would compare the Isolation Forest algorithm to the Support Vector Machine algorithms."
   ]
  },
  {
   "cell_type": "code",
   "execution_count": 1,
   "id": "a3ba3ab8-502b-4a74-84cd-527633e81f0d",
   "metadata": {
    "tags": []
   },
   "outputs": [],
   "source": [
    "## Imports\n",
    "import numpy as np\n",
    "import pandas as pd \n",
    "import sklearn\n",
    "import scipy\n",
    "import matplotlib.pyplot as plt\n",
    "import seaborn as sns\n",
    "from sklearn.metrics import classification_report, accuracy_score\n",
    "from sklearn.ensemble import IsolationForest\n",
    "from sklearn.neighbors import LocalOutlierFactor\n",
    "from sklearn.svm import OneClassSVM"
   ]
  },
  {
   "cell_type": "markdown",
   "id": "179dc18d-4346-47ae-a8dd-aafe56d27379",
   "metadata": {
    "tags": []
   },
   "source": [
    "## Data Exploration"
   ]
  },
  {
   "cell_type": "code",
   "execution_count": 2,
   "id": "ef75d3eb-0888-4df3-be41-f43cb82036c7",
   "metadata": {
    "tags": []
   },
   "outputs": [
    {
     "data": {
      "text/html": [
       "<div>\n",
       "<style scoped>\n",
       "    .dataframe tbody tr th:only-of-type {\n",
       "        vertical-align: middle;\n",
       "    }\n",
       "\n",
       "    .dataframe tbody tr th {\n",
       "        vertical-align: top;\n",
       "    }\n",
       "\n",
       "    .dataframe thead th {\n",
       "        text-align: right;\n",
       "    }\n",
       "</style>\n",
       "<table border=\"1\" class=\"dataframe\">\n",
       "  <thead>\n",
       "    <tr style=\"text-align: right;\">\n",
       "      <th></th>\n",
       "      <th>Time</th>\n",
       "      <th>V1</th>\n",
       "      <th>V2</th>\n",
       "      <th>V3</th>\n",
       "      <th>V4</th>\n",
       "      <th>V5</th>\n",
       "      <th>V6</th>\n",
       "      <th>V7</th>\n",
       "      <th>V8</th>\n",
       "      <th>V9</th>\n",
       "      <th>...</th>\n",
       "      <th>V21</th>\n",
       "      <th>V22</th>\n",
       "      <th>V23</th>\n",
       "      <th>V24</th>\n",
       "      <th>V25</th>\n",
       "      <th>V26</th>\n",
       "      <th>V27</th>\n",
       "      <th>V28</th>\n",
       "      <th>Amount</th>\n",
       "      <th>Class</th>\n",
       "    </tr>\n",
       "  </thead>\n",
       "  <tbody>\n",
       "    <tr>\n",
       "      <th>0</th>\n",
       "      <td>0.0</td>\n",
       "      <td>-1.359807</td>\n",
       "      <td>-0.072781</td>\n",
       "      <td>2.536347</td>\n",
       "      <td>1.378155</td>\n",
       "      <td>-0.338321</td>\n",
       "      <td>0.462388</td>\n",
       "      <td>0.239599</td>\n",
       "      <td>0.098698</td>\n",
       "      <td>0.363787</td>\n",
       "      <td>...</td>\n",
       "      <td>-0.018307</td>\n",
       "      <td>0.277838</td>\n",
       "      <td>-0.110474</td>\n",
       "      <td>0.066928</td>\n",
       "      <td>0.128539</td>\n",
       "      <td>-0.189115</td>\n",
       "      <td>0.133558</td>\n",
       "      <td>-0.021053</td>\n",
       "      <td>149.62</td>\n",
       "      <td>0</td>\n",
       "    </tr>\n",
       "    <tr>\n",
       "      <th>1</th>\n",
       "      <td>0.0</td>\n",
       "      <td>1.191857</td>\n",
       "      <td>0.266151</td>\n",
       "      <td>0.166480</td>\n",
       "      <td>0.448154</td>\n",
       "      <td>0.060018</td>\n",
       "      <td>-0.082361</td>\n",
       "      <td>-0.078803</td>\n",
       "      <td>0.085102</td>\n",
       "      <td>-0.255425</td>\n",
       "      <td>...</td>\n",
       "      <td>-0.225775</td>\n",
       "      <td>-0.638672</td>\n",
       "      <td>0.101288</td>\n",
       "      <td>-0.339846</td>\n",
       "      <td>0.167170</td>\n",
       "      <td>0.125895</td>\n",
       "      <td>-0.008983</td>\n",
       "      <td>0.014724</td>\n",
       "      <td>2.69</td>\n",
       "      <td>0</td>\n",
       "    </tr>\n",
       "    <tr>\n",
       "      <th>2</th>\n",
       "      <td>1.0</td>\n",
       "      <td>-1.358354</td>\n",
       "      <td>-1.340163</td>\n",
       "      <td>1.773209</td>\n",
       "      <td>0.379780</td>\n",
       "      <td>-0.503198</td>\n",
       "      <td>1.800499</td>\n",
       "      <td>0.791461</td>\n",
       "      <td>0.247676</td>\n",
       "      <td>-1.514654</td>\n",
       "      <td>...</td>\n",
       "      <td>0.247998</td>\n",
       "      <td>0.771679</td>\n",
       "      <td>0.909412</td>\n",
       "      <td>-0.689281</td>\n",
       "      <td>-0.327642</td>\n",
       "      <td>-0.139097</td>\n",
       "      <td>-0.055353</td>\n",
       "      <td>-0.059752</td>\n",
       "      <td>378.66</td>\n",
       "      <td>0</td>\n",
       "    </tr>\n",
       "    <tr>\n",
       "      <th>3</th>\n",
       "      <td>1.0</td>\n",
       "      <td>-0.966272</td>\n",
       "      <td>-0.185226</td>\n",
       "      <td>1.792993</td>\n",
       "      <td>-0.863291</td>\n",
       "      <td>-0.010309</td>\n",
       "      <td>1.247203</td>\n",
       "      <td>0.237609</td>\n",
       "      <td>0.377436</td>\n",
       "      <td>-1.387024</td>\n",
       "      <td>...</td>\n",
       "      <td>-0.108300</td>\n",
       "      <td>0.005274</td>\n",
       "      <td>-0.190321</td>\n",
       "      <td>-1.175575</td>\n",
       "      <td>0.647376</td>\n",
       "      <td>-0.221929</td>\n",
       "      <td>0.062723</td>\n",
       "      <td>0.061458</td>\n",
       "      <td>123.50</td>\n",
       "      <td>0</td>\n",
       "    </tr>\n",
       "    <tr>\n",
       "      <th>4</th>\n",
       "      <td>2.0</td>\n",
       "      <td>-1.158233</td>\n",
       "      <td>0.877737</td>\n",
       "      <td>1.548718</td>\n",
       "      <td>0.403034</td>\n",
       "      <td>-0.407193</td>\n",
       "      <td>0.095921</td>\n",
       "      <td>0.592941</td>\n",
       "      <td>-0.270533</td>\n",
       "      <td>0.817739</td>\n",
       "      <td>...</td>\n",
       "      <td>-0.009431</td>\n",
       "      <td>0.798278</td>\n",
       "      <td>-0.137458</td>\n",
       "      <td>0.141267</td>\n",
       "      <td>-0.206010</td>\n",
       "      <td>0.502292</td>\n",
       "      <td>0.219422</td>\n",
       "      <td>0.215153</td>\n",
       "      <td>69.99</td>\n",
       "      <td>0</td>\n",
       "    </tr>\n",
       "  </tbody>\n",
       "</table>\n",
       "<p>5 rows × 31 columns</p>\n",
       "</div>"
      ],
      "text/plain": [
       "   Time        V1        V2        V3        V4        V5        V6        V7  \\\n",
       "0   0.0 -1.359807 -0.072781  2.536347  1.378155 -0.338321  0.462388  0.239599   \n",
       "1   0.0  1.191857  0.266151  0.166480  0.448154  0.060018 -0.082361 -0.078803   \n",
       "2   1.0 -1.358354 -1.340163  1.773209  0.379780 -0.503198  1.800499  0.791461   \n",
       "3   1.0 -0.966272 -0.185226  1.792993 -0.863291 -0.010309  1.247203  0.237609   \n",
       "4   2.0 -1.158233  0.877737  1.548718  0.403034 -0.407193  0.095921  0.592941   \n",
       "\n",
       "         V8        V9  ...       V21       V22       V23       V24       V25  \\\n",
       "0  0.098698  0.363787  ... -0.018307  0.277838 -0.110474  0.066928  0.128539   \n",
       "1  0.085102 -0.255425  ... -0.225775 -0.638672  0.101288 -0.339846  0.167170   \n",
       "2  0.247676 -1.514654  ...  0.247998  0.771679  0.909412 -0.689281 -0.327642   \n",
       "3  0.377436 -1.387024  ... -0.108300  0.005274 -0.190321 -1.175575  0.647376   \n",
       "4 -0.270533  0.817739  ... -0.009431  0.798278 -0.137458  0.141267 -0.206010   \n",
       "\n",
       "        V26       V27       V28  Amount  Class  \n",
       "0 -0.189115  0.133558 -0.021053  149.62      0  \n",
       "1  0.125895 -0.008983  0.014724    2.69      0  \n",
       "2 -0.139097 -0.055353 -0.059752  378.66      0  \n",
       "3 -0.221929  0.062723  0.061458  123.50      0  \n",
       "4  0.502292  0.219422  0.215153   69.99      0  \n",
       "\n",
       "[5 rows x 31 columns]"
      ]
     },
     "execution_count": 2,
     "metadata": {},
     "output_type": "execute_result"
    }
   ],
   "source": [
    "data = pd.read_csv('creditcard.csv')\n",
    "data.head()"
   ]
  },
  {
   "cell_type": "code",
   "execution_count": 3,
   "id": "912b815f-f7f9-4f97-ac07-eece71cfe982",
   "metadata": {
    "tags": []
   },
   "outputs": [
    {
     "data": {
      "text/plain": [
       "Time      0\n",
       "V1        0\n",
       "V2        0\n",
       "V3        0\n",
       "V4        0\n",
       "V5        0\n",
       "V6        0\n",
       "V7        0\n",
       "V8        0\n",
       "V9        0\n",
       "V10       0\n",
       "V11       0\n",
       "V12       0\n",
       "V13       0\n",
       "V14       0\n",
       "V15       0\n",
       "V16       0\n",
       "V17       0\n",
       "V18       0\n",
       "V19       0\n",
       "V20       0\n",
       "V21       0\n",
       "V22       0\n",
       "V23       0\n",
       "V24       0\n",
       "V25       0\n",
       "V26       0\n",
       "V27       0\n",
       "V28       0\n",
       "Amount    0\n",
       "Class     0\n",
       "dtype: int64"
      ]
     },
     "execution_count": 3,
     "metadata": {},
     "output_type": "execute_result"
    }
   ],
   "source": [
    "data.isnull().sum()"
   ]
  },
  {
   "cell_type": "markdown",
   "id": "b9a2ba9f-9b1e-42da-99cd-bd929f8afad0",
   "metadata": {},
   "source": [
    "Our data has no null values and is made up of solely numbers, so there is no need for encoding. Now, we want to see if our database is balanced."
   ]
  },
  {
   "cell_type": "code",
   "execution_count": 4,
   "id": "9e7cbb89-c053-4f15-be5f-8b5f68d5632c",
   "metadata": {
    "tags": []
   },
   "outputs": [
    {
     "data": {
      "text/plain": [
       "Text(0, 0.5, 'Frequency')"
      ]
     },
     "execution_count": 4,
     "metadata": {},
     "output_type": "execute_result"
    },
    {
     "data": {
      "image/png": "[encoded data removed]",
      "text/plain": [
       "<Figure size 640x480 with 1 Axes>"
      ]
     },
     "metadata": {},
     "output_type": "display_data"
    }
   ],
   "source": [
    "classes = pd.value_counts(data['Class'], sort = True)\n",
    "classes.plot(kind = 'bar')\n",
    "plt.title(\"Class Distribution\")\n",
    "plt.xlabel(\"Class\")\n",
    "plt.ylabel(\"Frequency\")"
   ]
  },
  {
   "cell_type": "markdown",
   "id": "357793fe-c135-4202-b931-c564014b9858",
   "metadata": {},
   "source": [
    "Now, we know our dataset is imbalanced. 1 represents fraudulent transactions and now we can see they're rare."
   ]
  },
  {
   "cell_type": "markdown",
   "id": "87574c0f-1bbc-4a7b-ada8-2fc64ce99805",
   "metadata": {},
   "source": [
    "## Data Splitting\n",
    "Now, we're splitting the data for the fraudulent and normal transactions."
   ]
  },
  {
   "cell_type": "code",
   "execution_count": 5,
   "id": "6c6d444f-b20e-482e-be41-ed0f7b8f0983",
   "metadata": {
    "tags": []
   },
   "outputs": [],
   "source": [
    "fraud = data[data['Class'] == 1]\n",
    "regular = data[data['Class'] == 0]\n",
    "\n",
    "# We're looking for some attributes of normal transactions to see how fraudulent transactions change"
   ]
  },
  {
   "cell_type": "code",
   "execution_count": 6,
   "id": "927a2940-6b58-41ae-9e34-ec1670ae60eb",
   "metadata": {
    "tags": []
   },
   "outputs": [
    {
     "data": {
      "text/plain": [
       "count     492.000000\n",
       "mean      122.211321\n",
       "std       256.683288\n",
       "min         0.000000\n",
       "25%         1.000000\n",
       "50%         9.250000\n",
       "75%       105.890000\n",
       "max      2125.870000\n",
       "Name: Amount, dtype: float64"
      ]
     },
     "execution_count": 6,
     "metadata": {},
     "output_type": "execute_result"
    }
   ],
   "source": [
    "fraud.Amount.describe()"
   ]
  },
  {
   "cell_type": "code",
   "execution_count": 7,
   "id": "9c077fdd-868d-4e16-833a-afb43b29548b",
   "metadata": {
    "tags": []
   },
   "outputs": [
    {
     "data": {
      "text/plain": [
       "count    284315.000000\n",
       "mean         88.291022\n",
       "std         250.105092\n",
       "min           0.000000\n",
       "25%           5.650000\n",
       "50%          22.000000\n",
       "75%          77.050000\n",
       "max       25691.160000\n",
       "Name: Amount, dtype: float64"
      ]
     },
     "execution_count": 7,
     "metadata": {},
     "output_type": "execute_result"
    }
   ],
   "source": [
    "regular.Amount.describe()"
   ]
  },
  {
   "cell_type": "markdown",
   "id": "fdf65747-f5ba-4d18-8315-2f907bcceb66",
   "metadata": {},
   "source": [
    "We can see that the average amount for a fraudulent transaction is remarkably higher than that of a regular transaction. Which could suggest that a potential way of identifying fraudulent transactions is the value of said transaction. Next, we want to see if fraudulent transactions occur more during certain time periods."
   ]
  },
  {
   "cell_type": "code",
   "execution_count": 8,
   "id": "69b292cc-02d2-4801-a8fc-007c60d95849",
   "metadata": {
    "tags": []
   },
   "outputs": [
    {
     "data": {
      "image/png": "[encoded data removed]",
      "text/plain": [
       "<Figure size 640x480 with 2 Axes>"
      ]
     },
     "metadata": {},
     "output_type": "display_data"
    }
   ],
   "source": [
    "f, (ax1, ax2) = plt.subplots(2,1, sharex=True)\n",
    "f.suptitle('Transaction Time vs Amount by Class')\n",
    "ax1.scatter(fraud.Time, fraud.Amount)\n",
    "ax1.set_title('Fraud')\n",
    "ax2.scatter(regular.Time, regular.Amount)\n",
    "ax2.set_title('Regular')\n",
    "plt.xlabel('Time in Seconds')\n",
    "plt.ylabel('Amount')\n",
    "plt.show()"
   ]
  },
  {
   "cell_type": "markdown",
   "id": "c2fbaa44-590d-496f-ad5c-6191a8d08120",
   "metadata": {},
   "source": [
    "### Data Splitting\n",
    "Now, we need to split our data so we have training and testing data to use."
   ]
  },
  {
   "cell_type": "code",
   "execution_count": 9,
   "id": "0b7a66fc-fa2e-4ec4-952c-1344fb539e94",
   "metadata": {
    "tags": []
   },
   "outputs": [],
   "source": [
    "# We're using 10 percent of our data\n",
    "data_sample = data.sample(frac = 0.1, random_state = 1)\n",
    "Fraud = data_sample[data_sample['Class']==1]\n",
    "Regular = data_sample[data_sample['Class']==0]\n",
    "outlier_fraction = len(Fraud)/float(len(Regular))"
   ]
  },
  {
   "cell_type": "code",
   "execution_count": 10,
   "id": "dc8e682c-1957-463a-b3ce-9b0e02a96c68",
   "metadata": {
    "tags": []
   },
   "outputs": [],
   "source": [
    "columns = data_sample.columns.tolist()\n",
    "# Removing columns we don't need\n",
    "columns = [c for c in columns if c not in [\"Class\"]]\n",
    "target = \"Class\"\n",
    "\n",
    "state = np.random.RandomState(42)\n",
    "X = data_sample[columns]\n",
    "Y = data_sample[target]\n",
    "X_outliers = state.uniform(low=0, high=1, size=(X.shape[0], X.shape[1]))\n"
   ]
  },
  {
   "cell_type": "markdown",
   "id": "381d06d6-8b89-405f-b29a-9f46541f0606",
   "metadata": {},
   "source": [
    "### Model Building\n",
    "We're comparing the Isolation Forest Algorithm to the Support Vector Machine Algorithm. They are both used for detecting outliers. I would attempt to explain both of them briefly.\n",
    "\n",
    "- **Isolation Forest Outlier**: this is an ensemble method based on decision trees. Decision trees can be prone to problems such as bias and overfitting. Here, the algorithm constructs a series of decision trees and attempts to isolate outliers at an earlier stage (in terms of depth). These trees are not identical, so the outlier might appear at different depths. However, across all these trees the outliers would be identified earlier than usual.\n",
    "- **Support Vector Machines**: these are a type of supervised learning algorithm used for classification and, in some cases, regression tasks. The goal of the SVM algorithm is to find the hyperplane (in two-dimensional space, this would be a line) that best separates the classes of data points."
   ]
  },
  {
   "cell_type": "code",
   "execution_count": 11,
   "id": "d79b6f50-6f8e-4537-975e-78a57c1d08eb",
   "metadata": {
    "tags": []
   },
   "outputs": [],
   "source": [
    "classifiers = {\n",
    "    \"Support Vector Machine\": OneClassSVM(kernel='rbf', degree=3, gamma=0.1, nu=0.05, max_iter=-1),\n",
    "    \"Isolation Forest Outliers\": IsolationForest(n_estimators=100, max_samples=len(X), contamination=outlier_fraction, random_state=state, verbose=0),\n",
    "}"
   ]
  },
  {
   "cell_type": "code",
   "execution_count": 12,
   "id": "95853f3b-4551-4d03-8d90-5026d8d358d6",
   "metadata": {
    "tags": []
   },
   "outputs": [
    {
     "name": "stdout",
     "output_type": "stream",
     "text": [
      "dict_items([('Support Vector Machine', OneClassSVM(gamma=0.1, nu=0.05)), ('Isolation Forest Outliers', IsolationForest(contamination=0.0017234102419808666, max_samples=28481,\n",
      "                random_state=RandomState(MT19937) at 0x1E301274440))])\n"
     ]
    }
   ],
   "source": [
    "print(classifiers.items())"
   ]
  },
  {
   "cell_type": "code",
   "execution_count": 13,
   "id": "0e8b4ee8-5ce8-4bbd-8b3b-db8889485c35",
   "metadata": {
    "tags": []
   },
   "outputs": [
    {
     "name": "stdout",
     "output_type": "stream",
     "text": [
      "Support Vector Machine: 8516\n",
      "Classification Report: \n",
      "              precision    recall  f1-score   support\n",
      "\n",
      "           0       1.00      0.70      0.82     28432\n",
      "           1       0.00      0.37      0.00        49\n",
      "\n",
      "    accuracy                           0.70     28481\n",
      "   macro avg       0.50      0.53      0.41     28481\n",
      "weighted avg       1.00      0.70      0.82     28481\n",
      "\n",
      "Isolation Forest Outliers: 73\n",
      "Classification Report: \n",
      "              precision    recall  f1-score   support\n",
      "\n",
      "           0       1.00      1.00      1.00     28432\n",
      "           1       0.26      0.27      0.26        49\n",
      "\n",
      "    accuracy                           1.00     28481\n",
      "   macro avg       0.63      0.63      0.63     28481\n",
      "weighted avg       1.00      1.00      1.00     28481\n",
      "\n"
     ]
    }
   ],
   "source": [
    "n_outliers = len(Fraud)\n",
    "\n",
    "for i, (clf_name, clf) in enumerate(classifiers.items()):\n",
    "    clf.fit(X)\n",
    "    if clf_name == \"Support Vector Machine\":\n",
    "        y_prediction = clf.predict(X)\n",
    "    else:\n",
    "        scores_prediction = clf.decision_function(X)\n",
    "        y_prediction = clf.predict(X)\n",
    "\n",
    "    # Changing the prediction values to be 0 for classic, 1 for fraud\n",
    "    y_prediction[y_prediction == 1] = 0\n",
    "    y_prediction[y_prediction == -1] = 1\n",
    "    n_errors = (y_prediction != Y).sum()\n",
    "    \n",
    "    print(\"{}: {}\".format(clf_name, n_errors))\n",
    "    print(\"Classification Report: \")\n",
    "    print(classification_report(Y, y_prediction))"
   ]
  },
  {
   "cell_type": "markdown",
   "id": "7b502f0f-26fa-44f1-8f93-0738eefc7bfd",
   "metadata": {},
   "source": [
    "As we can see, the SVM an Isolation Forest algorithms were evenly matched in terms of precision scores. However, the Isolation Forest Algorithm returned much fewer errors and also had a higher recall score when compared to the Support Vector Machine algorithm."
   ]
  }
 ],
 "metadata": {
  "kernelspec": {
   "display_name": "Python 3 (ipykernel)",
   "language": "python",
   "name": "python3"
  },
  "language_info": {
   "codemirror_mode": {
    "name": "ipython",
    "version": 3
   },
   "file_extension": ".py",
   "mimetype": "text/x-python",
   "name": "python",
   "nbconvert_exporter": "python",
   "pygments_lexer": "ipython3",
   "version": "3.11.5"
  }
 },
 "nbformat": 4,
 "nbformat_minor": 5
}
